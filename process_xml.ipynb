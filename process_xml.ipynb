{
 "cells": [
  {
   "cell_type": "code",
   "execution_count": 1,
   "metadata": {
    "ExecuteTime": {
     "end_time": "2017-01-05T20:47:49.105311",
     "start_time": "2017-01-05T20:47:49.071372"
    },
    "collapsed": true
   },
   "outputs": [],
   "source": [
    "import xml.etree.cElementTree as ET\n",
    "import pprint\n",
    "import collections"
   ]
  },
  {
   "cell_type": "code",
   "execution_count": 4,
   "metadata": {
    "ExecuteTime": {
     "end_time": "2017-01-05T20:48:57.618943",
     "start_time": "2017-01-05T20:48:57.613885"
    },
    "collapsed": true
   },
   "outputs": [],
   "source": [
    "# OSM_FILE = \"sample.osm\"\n",
    "OSM_FILE = \"san-francisco-bay_california.osm\""
   ]
  },
  {
   "cell_type": "code",
   "execution_count": 5,
   "metadata": {
    "ExecuteTime": {
     "end_time": "2017-01-05T20:54:00.594890",
     "start_time": "2017-01-05T20:48:58.693785"
    },
    "collapsed": false
   },
   "outputs": [
    {
     "data": {
      "text/plain": [
       "defaultdict(int,\n",
       "            {'bounds': 1,\n",
       "             'member': 99916,\n",
       "             'nd': 14359131,\n",
       "             'node': 12270812,\n",
       "             'osm': 1,\n",
       "             'relation': 11058,\n",
       "             'tag': 5528159,\n",
       "             'way': 1298017})"
      ]
     },
     "execution_count": 5,
     "metadata": {},
     "output_type": "execute_result"
    }
   ],
   "source": [
    "def count_tags(filename):\n",
    "    tags = collections.defaultdict(int)\n",
    "        \n",
    "    for event, elem in ET.iterparse(filename, events=('start', 'end')):\n",
    "        tags[elem.tag] += 1\n",
    "        if event == 'end' and elem.tag in tags:\n",
    "            root.clear()\n",
    "    \n",
    "    return tags\n",
    "\n",
    "count_tags(OSM_FILE)"
   ]
  },
  {
   "cell_type": "code",
   "execution_count": null,
   "metadata": {
    "collapsed": true
   },
   "outputs": [],
   "source": []
  }
 ],
 "metadata": {
  "anaconda-cloud": {},
  "kernelspec": {
   "display_name": "Python [conda env:DAND]",
   "language": "python",
   "name": "conda-env-DAND-py"
  },
  "language_info": {
   "codemirror_mode": {
    "name": "ipython",
    "version": 2
   },
   "file_extension": ".py",
   "mimetype": "text/x-python",
   "name": "python",
   "nbconvert_exporter": "python",
   "pygments_lexer": "ipython2",
   "version": "2.7.12"
  }
 },
 "nbformat": 4,
 "nbformat_minor": 2
}
