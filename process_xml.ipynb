{
 "cells": [
  {
   "cell_type": "code",
   "execution_count": 77,
   "metadata": {
    "ExecuteTime": {
     "end_time": "2017-01-06T10:59:00.509476",
     "start_time": "2017-01-06T10:59:00.504673"
    },
    "collapsed": true
   },
   "outputs": [],
   "source": [
    "import xml.etree.cElementTree as ET\n",
    "import pprint\n",
    "import re\n",
    "from collections import defaultdict"
   ]
  },
  {
   "cell_type": "code",
   "execution_count": 86,
   "metadata": {
    "ExecuteTime": {
     "end_time": "2017-01-06T10:59:45.989877",
     "start_time": "2017-01-06T10:59:45.981708"
    },
    "collapsed": false
   },
   "outputs": [
    {
     "data": {
      "text/plain": [
       "re.compile(r'\\b\\S+\\.? \\b[0-9]+$', re.IGNORECASE)"
      ]
     },
     "execution_count": 86,
     "metadata": {},
     "output_type": "execute_result"
    }
   ],
   "source": [
    "OSM_FILE = \"sample-k-1000.osm\"\n",
    "\n",
    "street_type_re = re.compile(r'(\\b\\S+\\.?)$', re.IGNORECASE) # \"300 Bernal Ave.\" or \"900 Cy Ranch Drive\"\n",
    "street_type_num_re = re.compile(r'(\\b\\S+\\.?) #?[0-9]+$', re.IGNORECASE) # \"20 Cal Avenue #32\" or \"15 Stevens Creek Hwy 2\"\n",
    "re.compile(r'\\b\\S+\\.? \\b[0-9]+$', re.IGNORECASE)"
   ]
  },
  {
   "cell_type": "code",
   "execution_count": 79,
   "metadata": {
    "ExecuteTime": {
     "end_time": "2017-01-06T10:59:02.332162",
     "start_time": "2017-01-06T10:59:02.326727"
    },
    "collapsed": false
   },
   "outputs": [
    {
     "name": "stdout",
     "output_type": "stream",
     "text": [
      "Hwy\n",
      "Ave\n"
     ]
    }
   ],
   "source": [
    "# Examples of using street_type_num_re\n",
    "m = street_type_num_re.search(\"2030 Hwy 1\")\n",
    "print(m.group(1))\n",
    "\n",
    "m = street_type_num_re.search(\"Old Bernal Ave #1\")\n",
    "print(m.group(1))"
   ]
  },
  {
   "cell_type": "code",
   "execution_count": 94,
   "metadata": {
    "ExecuteTime": {
     "end_time": "2017-01-06T11:08:27.194853",
     "start_time": "2017-01-06T11:08:27.188751"
    },
    "collapsed": true
   },
   "outputs": [],
   "source": [
    "def get_element(osm_file, tags=('node', 'way', 'relation')):\n",
    "    \"\"\"Yield element if it is the right type of tag\n",
    "\n",
    "    Reference:\n",
    "    http://stackoverflow.com/questions/3095434/inserting-newlines-in-xml-file-generated-via-xml-etree-elementtree-in-python\n",
    "    \"\"\"\n",
    "    context = iter(ET.iterparse(osm_file, events=('start', 'end')))\n",
    "    _, root = next(context)\n",
    "    for event, elem in context:\n",
    "        if event == 'end' and elem.tag in tags:\n",
    "            yield elem\n",
    "            root.clear()"
   ]
  },
  {
   "cell_type": "code",
   "execution_count": 98,
   "metadata": {
    "ExecuteTime": {
     "end_time": "2017-01-06T11:09:27.960440",
     "start_time": "2017-01-06T11:09:27.779345"
    },
    "collapsed": false
   },
   "outputs": [
    {
     "data": {
      "text/plain": [
       "defaultdict(int,\n",
       "            {'member': 206,\n",
       "             'nd': 28832,\n",
       "             'node': 24542,\n",
       "             'osm': 2,\n",
       "             'relation': 22,\n",
       "             'tag': 10976,\n",
       "             'way': 2596})"
      ]
     },
     "execution_count": 98,
     "metadata": {},
     "output_type": "execute_result"
    }
   ],
   "source": [
    "def count_tags(filename):\n",
    "    tags = defaultdict(int)\n",
    "    \n",
    "    #for i, elem in enumerate(get_element(OSM_FILE)):\n",
    "    for event, elem in ET.iterparse(filename, events=('start', 'end')):\n",
    "        tags[elem.tag] += 1\n",
    "        \n",
    "        # TODO(hkwik): I know I ought to clear the root, but not sure about elem.tag in tags.\n",
    "        # Once I understand, I'll put this in.\n",
    "        # if event == 'end' and elem.tag in tags: \n",
    "        #    root.clear()\n",
    "    \n",
    "    return tags\n",
    "\n",
    "count_tags(OSM_FILE)"
   ]
  },
  {
   "cell_type": "code",
   "execution_count": 109,
   "metadata": {
    "ExecuteTime": {
     "end_time": "2017-01-06T15:21:37.622548",
     "start_time": "2017-01-06T15:21:37.583184"
    },
    "collapsed": false
   },
   "outputs": [],
   "source": [
    "expected = [\"Alley\", \"Avenue\", \"Boulevard\", \"Center\", \"Circle\", \"Common\", \"Commons\", \n",
    "            \"Corte\", \"Court\", \"Courtyard\", \"Drive\", \"Expressway\", \n",
    "            \"Highway\", \"Lane\", \"Loop\", \"Mall\", \"Path\", \"Park\", \"Parkway\", \"Place\", \"Plaza\",\n",
    "            \"Real\", \"Road\", \"Square\", \"Street\", \"Terrace\", \"Trail\", \"Walk\",\n",
    "            \"Way\"]\n",
    "\n",
    "mapping = { \"Aly\": \"Alley\",\n",
    "            \"AVE\": \"Avenue\",\n",
    "            \"Ave\": \"Avenue\",\n",
    "            \"Aveenue\": \"Avenue\",\n",
    "            \"Avenie\": \"Avenue\",\n",
    "            \"Ave.\": \"Avenue\",\n",
    "            \"blvd\": \"Boulevard\",\n",
    "            \"BLVD.\": \"Boulevard\",\n",
    "            \"BLVD\": \"Boulevard\",\n",
    "            \"Blvd\": \"Boulevard\",\n",
    "            \"Blvd.\": \"Boulevard\",\n",
    "            \"Boulvevard\": \"Boulevard\",\n",
    "            \"Boulevar\": \"Boulevard\",\n",
    "            \"Cir\": \"Circle\",\n",
    "            \"Circle:\": \"Circle\",\n",
    "            \"court\": \"Court\",\n",
    "            \"Ct\": \"Court\",\n",
    "            \"Ct.\": \"Court\",\n",
    "            \"Ctr\": \"Center\",\n",
    "            \"Dr\": \"Drive\",\n",
    "            \"Expwy\": \"Expressway\",\n",
    "            \"Hwy\": \"Highway\",\n",
    "            \"Hwy.\": \"Highway\",\n",
    "            \"Ln\": \"Lane\",\n",
    "            \"Ln.\": \"Lane\",\n",
    "            \"parkway\": \"Parkway\",\n",
    "            \"PKWY\": \"Parkway\",\n",
    "            \"PL\": \"Place\",\n",
    "            \"Pl\": \"Place\",\n",
    "            \"PT\": \"Point\",\n",
    "            \"road\": \"Road\",\n",
    "            \"Rd\": \"Road\",\n",
    "            \"Rd.\": \"Road\",\n",
    "            \"st\": \"Street\",\n",
    "            \"St\": \"Street\",\n",
    "            \"St.\": \"Street\",\n",
    "            \"street\": \"Street\",\n",
    "            \"terrace\": \"Terrace\",\n",
    "            \"way\": \"Way\",\n",
    "            \"WAy\": \"Way\"\n",
    "            }"
   ]
  },
  {
   "cell_type": "code",
   "execution_count": 107,
   "metadata": {
    "ExecuteTime": {
     "end_time": "2017-01-06T15:17:40.418135",
     "start_time": "2017-01-06T15:17:40.387935"
    },
    "collapsed": false
   },
   "outputs": [],
   "source": [
    "def audit_street_type_regex(street_types, regex, street_name):\n",
    "    # Assume group(1) contains the street type\n",
    "    m = regex.search(street_name)\n",
    "    if m:\n",
    "        street_type = m.group(1)\n",
    "        if street_type not in expected and street_type not in mapping:\n",
    "            street_types[street_type].add(street_name)\n",
    "\n",
    "def audit_street_type(street_types, street_name):\n",
    "    # audit_street_type_regex(street_types, street_type_re, street_name)\n",
    "    \n",
    "    # TODO: not sure if this is working\n",
    "    audit_street_type_regex(street_types, street_type_num_re, street_name)\n",
    "\n",
    "    \n",
    "def is_street_name(elem):\n",
    "    return (elem.attrib['k'] == \"addr:street\")\n",
    "\n",
    "\n",
    "def audit(osmfile):\n",
    "    osm_file = open(osmfile, \"r\")\n",
    "    street_types = defaultdict(set)\n",
    "    \n",
    "    for i, elem in enumerate(get_element(osm_file)):\n",
    "        if elem.tag == \"node\" or elem.tag == \"way\":\n",
    "            for tag in elem.iter(\"tag\"):\n",
    "                if is_street_name(tag):\n",
    "                    audit_street_type(street_types, tag.attrib['v'])\n",
    "                    \n",
    "    osm_file.close()\n",
    "    return street_types\n",
    "\n",
    "\n",
    "def update_name(name, mapping):\n",
    "    m = street_type_re.search(name)\n",
    "    if m:\n",
    "        street_type = m.group()\n",
    "        new_street_type = mapping[street_type]\n",
    "        name = re.sub(street_type_re, new_street_type, name)\n",
    "    return name"
   ]
  },
  {
   "cell_type": "code",
   "execution_count": 108,
   "metadata": {
    "ExecuteTime": {
     "end_time": "2017-01-06T15:20:56.448052",
     "start_time": "2017-01-06T15:17:42.098771"
    },
    "collapsed": false
   },
   "outputs": [
    {
     "data": {
      "text/plain": [
       "defaultdict(set,\n",
       "            {'APT': {'East Charleston Road APT 9'},\n",
       "             'Ave': {'Old Bernal Ave #1',\n",
       "              'University Ave #155',\n",
       "              'Watt Ave #200'},\n",
       "             'Blvd': {'Mission Blvd #302',\n",
       "              'N California Blvd #105',\n",
       "              'Northgate Blvd #100',\n",
       "              'San Ramon Valley Blvd #2'},\n",
       "             'Box': {'PO Box 5259'},\n",
       "             'Ca': {'Pera Dr at Escuela Drive, Rancho Murieta, Ca 95683'},\n",
       "             'Ct': {'Las Positas Ct #165'},\n",
       "             'Dr': {'Concourse Dr #81'},\n",
       "             'HWY': {'N HWY 88'},\n",
       "             'Hwy': {'10795 Hwy 1',\n",
       "              '2030 Hwy 1',\n",
       "              'E. Hwy 120',\n",
       "              'Hwy 116',\n",
       "              'Hwy 9',\n",
       "              'State Hwy 1'},\n",
       "             'Hwy.': {'Hwy. 9'},\n",
       "             'No.': {'California Highway 16, House No. 1'},\n",
       "             'PM': {'San Mateo 35 PM 10'},\n",
       "             'Padre': {'Via Padre #23',\n",
       "              'Via Padre #25',\n",
       "              'Via Padre #27',\n",
       "              'Via Padre #29',\n",
       "              'Via Padre #31'},\n",
       "             'Pier': {'Pier 39'},\n",
       "             'Pl': {'Industrial Pl #5'},\n",
       "             'Rd': {'Carpenter Rd #32',\n",
       "              'Elmira Rd #352',\n",
       "              'Fairview Rd #11',\n",
       "              'Fairview Rd #29',\n",
       "              'Fairview Rd #63',\n",
       "              'North Port Rd 13',\n",
       "              'Port Rd 2',\n",
       "              'Port Rd 22',\n",
       "              'Port Rd 23',\n",
       "              'Prospect Rd #1'},\n",
       "             'Route': {'East State Route 26',\n",
       "              'East State Route 4',\n",
       "              'East State Route 88',\n",
       "              'San Francisco Bicycle Route 2',\n",
       "              'West State Route 4'},\n",
       "             'Rte': {'13th Ave Rte 99',\n",
       "              '3rd St / Rte 50',\n",
       "              '47th Avenue / Rte 99'},\n",
       "             'STE': {'Showers Drive STE 2', 'Showers Drive STE 7'},\n",
       "             'Sp': {'Fairview Road Sp 56'},\n",
       "             'Sr': {'In \"Y\" Jct Of Sr 121 / Sr 116',\n",
       "              'Main Street At Sr 12',\n",
       "              'Pacheco Blvd @ Blum Rd N Of Sr 4',\n",
       "              'W Of Us 101 @ Jct Sr 1',\n",
       "              'W Side Of Us 101 @ Sr 116'},\n",
       "             'St': {'16th St #404',\n",
       "              'College St #2',\n",
       "              'E Bidwell St #400',\n",
       "              'Hawkins St #12',\n",
       "              'Line St #803',\n",
       "              'Rustic St #12',\n",
       "              'Sally St #95',\n",
       "              'Sansome St #3500',\n",
       "              'South St #10',\n",
       "              'South St #438',\n",
       "              'Upton St 41276'},\n",
       "             'St/Rte': {'2nd St/Rte 5'},\n",
       "             'Ste': {'Great America Pkwy Ste 201', 'Sansome Street Ste 730'},\n",
       "             'Suite': {'2nd St Suite 330',\n",
       "              'Doolittle Dr, Suite 15',\n",
       "              'Greenback Lane, Suite 310',\n",
       "              'Market Street Suite 3658',\n",
       "              'Sansome Street Suite 730',\n",
       "              'Stewart Drive Suite #1',\n",
       "              'University Dr. Suite 3',\n",
       "              'West Angela Street, Suite 110',\n",
       "              'West Evelyn Avenue Suite #114',\n",
       "              'Woodside Road, Suite 100',\n",
       "              'Woodside Road, Suite 155'},\n",
       "             'Us': {'Nw Quad Lincoln Ave / Us 101',\n",
       "              'Se Quad Smith Ranch Rd / Us 101'}})"
      ]
     },
     "execution_count": 108,
     "metadata": {},
     "output_type": "execute_result"
    }
   ],
   "source": [
    "audit(OSMFILE)"
   ]
  }
 ],
 "metadata": {
  "anaconda-cloud": {},
  "kernelspec": {
   "display_name": "Python [conda env:DAND]",
   "language": "python",
   "name": "conda-env-DAND-py"
  },
  "language_info": {
   "codemirror_mode": {
    "name": "ipython",
    "version": 2
   },
   "file_extension": ".py",
   "mimetype": "text/x-python",
   "name": "python",
   "nbconvert_exporter": "python",
   "pygments_lexer": "ipython2",
   "version": "2.7.12"
  }
 },
 "nbformat": 4,
 "nbformat_minor": 2
}
