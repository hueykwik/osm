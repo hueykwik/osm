{
 "cells": [
  {
   "cell_type": "code",
   "execution_count": 1,
   "metadata": {
    "ExecuteTime": {
     "end_time": "2017-01-05T20:47:49.105311",
     "start_time": "2017-01-05T20:47:49.071372"
    },
    "collapsed": true
   },
   "outputs": [],
   "source": [
    "import xml.etree.cElementTree as ET\n",
    "import pprint\n",
    "import collections"
   ]
  },
  {
   "cell_type": "code",
   "execution_count": 4,
   "metadata": {
    "ExecuteTime": {
     "end_time": "2017-01-05T20:48:57.618943",
     "start_time": "2017-01-05T20:48:57.613885"
    },
    "collapsed": true
   },
   "outputs": [],
   "source": [
    "# OSM_FILE = \"sample.osm\"\n",
    "OSM_FILE = \"san-francisco-bay_california.osm\""
   ]
  },
  {
   "cell_type": "code",
   "execution_count": null,
   "metadata": {
    "ExecuteTime": {
     "start_time": "2017-01-06T05:16:01.152Z"
    },
    "collapsed": false
   },
   "outputs": [],
   "source": [
    "def count_tags(filename):\n",
    "    tags = collections.defaultdict(int)\n",
    "        \n",
    "    for event, elem in ET.iterparse(filename, events=('start', 'end')):\n",
    "        tags[elem.tag] += 1\n",
    "        \n",
    "        # TODO(hkwik): I know I ought to clear the root, but not sure about elem.tag in tags.\n",
    "        # Once I understand, I'll put this in.\n",
    "        # if event == 'end' and elem.tag in tags: \n",
    "        #    root.clear()\n",
    "    \n",
    "    return tags\n",
    "\n",
    "count_tags(OSM_FILE)"
   ]
  },
  {
   "cell_type": "code",
   "execution_count": null,
   "metadata": {
    "collapsed": true
   },
   "outputs": [],
   "source": []
  }
 ],
 "metadata": {
  "anaconda-cloud": {},
  "kernelspec": {
   "display_name": "Python [conda env:DAND]",
   "language": "python",
   "name": "conda-env-DAND-py"
  },
  "language_info": {
   "codemirror_mode": {
    "name": "ipython",
    "version": 2
   },
   "file_extension": ".py",
   "mimetype": "text/x-python",
   "name": "python",
   "nbconvert_exporter": "python",
   "pygments_lexer": "ipython2",
   "version": "2.7.12"
  }
 },
 "nbformat": 4,
 "nbformat_minor": 2
}
